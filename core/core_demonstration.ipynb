{
 "cells": [
  {
   "cell_type": "markdown",
   "id": "6d8b9130-1228-4532-8904-e088b29489b5",
   "metadata": {},
   "source": [
    "## Core subpackage demonstration\n",
    "Matthew Yau\n"
   ]
  },
  {
   "cell_type": "code",
   "execution_count": 1,
   "id": "e21d27c3-1e37-43bd-8944-7ed71c318a9d",
   "metadata": {},
   "outputs": [],
   "source": [
    "#run this file in the jupyter notebook as:\n",
    "#python core_demonstration.ipynb\n",
    "\n"
   ]
  },
  {
   "cell_type": "code",
   "execution_count": 2,
   "id": "4a9475bf-72bb-4cbf-935e-536fd62ebe7f",
   "metadata": {},
   "outputs": [
    {
     "name": "stdout",
     "output_type": "stream",
     "text": [
      "Internet connection confirmed.\n"
     ]
    }
   ],
   "source": [
    "import quiz_methods as methods\n",
    "import quiz_main as main\n",
    "import pandas as pd"
   ]
  },
  {
   "cell_type": "markdown",
   "id": "9ba8322c-dab9-4255-a62f-e0bbf8deb9f2",
   "metadata": {},
   "source": [
    "#################\n",
    "### quiz_methods module\n",
    "################\n"
   ]
  },
  {
   "cell_type": "code",
   "execution_count": 3,
   "id": "f22febf4-eb8e-4100-89b7-b89980175f2a",
   "metadata": {},
   "outputs": [
    {
     "name": "stdin",
     "output_type": "stream",
     "text": [
      "You are about to start a quiz on exit from the site quizlet.\n",
      "Please choose from the following options: \n",
      "   Start (starts the quiz!)\n",
      "   Settings (change settings)\n",
      "   Exit (quit)\n",
      " exit\n"
     ]
    },
    {
     "name": "stdout",
     "output_type": "stream",
     "text": [
      "Functions requiring internet connection may take a while. Please do not interact with your device until the process is finished.\n",
      "Starting in:\n",
      "3\n",
      "2\n",
      "1\n",
      "Done.\n"
     ]
    }
   ],
   "source": [
    "print(\"Please wait while, in code below, we create an instance of the quiz\")\n",
    "print(\"object to allow for testing of quiz_methods methods\")\n",
    "print(\"Please specify exit whenever a prompt is shown in the code below\")\n",
    "print(\"Please wait while scraping occurs as well\")\n",
    "theQuiz = main.Quiz() #Please specify exit in both inputs\n",
    "theQuiz.topic = \"Space\"\n",
    "main.quiz_create(theQuiz)\n",
    "\n"
   ]
  },
  {
   "cell_type": "markdown",
   "id": "b7edfd97-bcc1-4ed4-bf3d-ba259f3d9fa7",
   "metadata": {},
   "source": [
    "#### QA_constructor"
   ]
  },
  {
   "cell_type": "code",
   "execution_count": 5,
   "id": "423666a1-9c10-4d67-a701-b4db8b8b78e5",
   "metadata": {},
   "outputs": [
    {
     "name": "stdout",
     "output_type": "stream",
     "text": [
      "QA_constructor will create an array from dataframe, holding instances of QA\n",
      "Passing dataframe with 3 questions and answers into QA constructor\n",
      "Array of QAs is returned from QA_constructor, each index is QA\n",
      "First QA object is <py_quizlet_cram.core.quiz_main.QA object at 0x7fb9280302e0>\n",
      "To access question from first QA, use the question/answer attribute tied to QA object\n",
      "First question is What is fun\n",
      "First answer is Basketball\n"
     ]
    }
   ],
   "source": [
    "print(\"QA_constructor will create an array from dataframe, holding instances of QA\")\n",
    "data = [['What is fun', \"Basketball\"], ['How old is Bob', 15], ['What day is it today', 14]]\n",
    "\n",
    "theData = pd.DataFrame(data, columns=['questions', 'answers'])\n",
    "\n",
    "\n",
    "print(\"Passing dataframe with 3 questions and answers into QA constructor\")\n",
    "theArray = methods.QA_constructor(theData, \"People\")\n",
    "\n",
    "print(\"Array of QAs is returned from QA_constructor, each index is QA\")\n",
    "print(\"First QA object is\", theArray[0])\n",
    "print(\"To access question from first QA, use the question/answer attribute tied to QA object\")\n",
    "print(\"First question is\", theArray[0].question) \n",
    "print(\"First answer is\", theArray[0].answer)\n",
    "\n",
    "\n"
   ]
  },
  {
   "cell_type": "markdown",
   "id": "a9fc77cd-2a2d-402f-b8c5-6bb0f520678e",
   "metadata": {},
   "source": [
    "#### take_the_quiz"
   ]
  },
  {
   "cell_type": "code",
   "execution_count": 6,
   "id": "88fe0fe9-6cef-4fda-9622-1bcbedda6be4",
   "metadata": {},
   "outputs": [
    {
     "name": "stdout",
     "output_type": "stream",
     "text": [
      "Take the quiz allows users to go through questions/answers in a stored quiz object\n",
      "Please specify exit to test other functions\n",
      "You are about to start the quiz with the following options...:\n",
      "Your topic: Space\n",
      "With questions from: quizlet\n",
      "Using question bank number: 1\n",
      "Total number of questions: 34\n",
      "Language: en\n",
      "With results: on\n",
      "Good luck!\n",
      "Question 1 of 34: The role of gravity in our universe\n",
      "Press enter for the answer, hint for hints, or exit to exit. \n",
      "\n"
     ]
    },
    {
     "name": "stdin",
     "output_type": "stream",
     "text": [
      " exit\n"
     ]
    },
    {
     "name": "stdout",
     "output_type": "stream",
     "text": [
      "\n",
      "Well done! Quiz is finished. \n",
      "\n"
     ]
    }
   ],
   "source": [
    "print(\"Take the quiz allows users to go through questions/answers in a stored quiz object\")\n",
    "print(\"Please specify exit to test other functions\")\n",
    "methods.take_the_quiz(theQuiz)"
   ]
  },
  {
   "cell_type": "markdown",
   "id": "f23fb50d-e514-4f55-b0cf-b8cdedded73f",
   "metadata": {},
   "source": [
    "#### print_options"
   ]
  },
  {
   "cell_type": "code",
   "execution_count": 7,
   "id": "acdf8357-b9c2-4edb-9f81-ca3e864a5bfb",
   "metadata": {},
   "outputs": [
    {
     "name": "stdout",
     "output_type": "stream",
     "text": [
      "Print options will show quiz settings\n",
      "You are about to start the quiz with the following options...:\n",
      "Your topic: Space\n",
      "With questions from: quizlet\n",
      "Using question bank number: 1\n",
      "Total number of questions: 34\n",
      "Language: en\n",
      "With results: on\n",
      "Good luck!\n"
     ]
    }
   ],
   "source": [
    "print(\"Print options will show quiz settings\")\n",
    "methods.print_options(theQuiz)"
   ]
  },
  {
   "cell_type": "markdown",
   "id": "ab7f20d0-5e3f-4718-9842-afe666dcce54",
   "metadata": {},
   "source": [
    "#### results_plot"
   ]
  },
  {
   "cell_type": "code",
   "execution_count": 8,
   "id": "baf59e1f-43f0-4c6b-872e-b284ea89f84a",
   "metadata": {},
   "outputs": [
    {
     "name": "stdout",
     "output_type": "stream",
     "text": [
      "Results plot will plot number of results correct or incorrect\n",
      "Right: 1\n",
      "Wrong: 0\n",
      "Grade: 3 %\n"
     ]
    },
    {
     "data": {
      "image/png": "[encoded data removed]",
      "text/plain": [
       "<Figure size 432x288 with 1 Axes>"
      ]
     },
     "metadata": {},
     "output_type": "display_data"
    }
   ],
   "source": [
    "print(\"Results plot will plot number of results correct or incorrect\")\n",
    "theQuiz.QAs[1].mark = \"y\"\n",
    "methods.results_plot(theQuiz)"
   ]
  },
  {
   "cell_type": "markdown",
   "id": "34db6367-e33e-42fd-b228-be167232e97b",
   "metadata": {},
   "source": [
    "#### hints"
   ]
  },
  {
   "cell_type": "code",
   "execution_count": 9,
   "id": "3a98c502-352c-400c-a2a9-dc0f357f66d9",
   "metadata": {},
   "outputs": [
    {
     "name": "stdout",
     "output_type": "stream",
     "text": [
      "Hint will hide random characters in a single word\n",
      "H_llo\n",
      "Hint will hide random words in a sentence\n",
      "I am going __ ___ _____\n"
     ]
    }
   ],
   "source": [
    "print(\"Hint will hide random characters in a single word\")\n",
    "print(methods.hints(\"Hello\"))\n",
    "print(\"Hint will hide random words in a sentence\")\n",
    "print(methods.hints(\"I am going to the beach\"))"
   ]
  },
  {
   "cell_type": "markdown",
   "id": "8de34a04-a0da-43d2-a587-10e956a9ee47",
   "metadata": {},
   "source": [
    "#################\n",
    "### quiz_main module\n",
    "################\n",
    "\n"
   ]
  },
  {
   "cell_type": "markdown",
   "id": "cd135437-1743-477f-a47d-36b1ff7eb859",
   "metadata": {},
   "source": [
    "#### Quiz() class"
   ]
  },
  {
   "cell_type": "code",
   "execution_count": 10,
   "id": "d58c6f1a-a8ab-4b4d-adc8-4eded4bf7e6d",
   "metadata": {},
   "outputs": [
    {
     "name": "stdin",
     "output_type": "stream",
     "text": [
      "You are about to start a quiz on exit from the site quizlet.\n",
      "Please choose from the following options: \n",
      "   Start (starts the quiz!)\n",
      "   Settings (change settings)\n",
      "   Exit (quit)\n",
      " exit\n"
     ]
    },
    {
     "data": {
      "text/plain": [
       "<py_quizlet_cram.core.quiz_main.Quiz at 0x7fb97ac35ac0>"
      ]
     },
     "execution_count": 10,
     "metadata": {},
     "output_type": "execute_result"
    }
   ],
   "source": [
    "print(\"The quiz class in the quiz_main module is responsible for running the quiz\")\n",
    "print(\"Please specify exit in both prompts to continue with testing other methods\")\n",
    "main.Quiz()\n",
    "\n"
   ]
  },
  {
   "cell_type": "markdown",
   "id": "cb3c5312-1cc6-465d-b8e5-dee078ccd9f9",
   "metadata": {},
   "source": [
    "#### QA() class"
   ]
  },
  {
   "cell_type": "code",
   "execution_count": 11,
   "id": "40ce3c89-f6ea-4524-9d48-bfce86d4b37b",
   "metadata": {},
   "outputs": [
    {
     "name": "stdout",
     "output_type": "stream",
     "text": [
      "QA provides a template class for storing questions, answers, topic of question, and mark of question\n",
      "Creating firstQA storing question: first question, answer: first answer, topic: biology\n",
      "First question of firstQA is First question\n",
      "First answer of firstQA is First answer\n",
      "First topic of firstQA is Biology\n"
     ]
    }
   ],
   "source": [
    "print(\"QA provides a template class for storing questions, answers, topic of question, and mark of question\")\n",
    "\n",
    "print(\"Creating firstQA storing question: first question, answer: first answer, topic: biology\")\n",
    "firstQA = main.QA(\"First question\", \"First answer\", \"Biology\")\n",
    "print(\"First question of firstQA is\", firstQA.question)\n",
    "print(\"First answer of firstQA is\", firstQA.answer)\n",
    "print(\"First topic of firstQA is\", firstQA.topic)"
   ]
  },
  {
   "cell_type": "markdown",
   "id": "7fc98775-aa13-4203-8d54-a95944920c38",
   "metadata": {},
   "source": [
    "#### quiz_create()"
   ]
  },
  {
   "cell_type": "code",
   "execution_count": 12,
   "id": "9bc34d09-532f-4195-ba4f-135715cabb2e",
   "metadata": {},
   "outputs": [
    {
     "name": "stdout",
     "output_type": "stream",
     "text": [
      "Quiz create will webscrape a quiz and create array of questions/answers from webscraping\n",
      "It takes in a quiz object and webscrapes according to instance of quiz settings\n",
      "Functions requiring internet connection may take a while. Please do not interact with your device until the process is finished.\n",
      "Starting in:\n",
      "3\n",
      "2\n",
      "1\n",
      "Done.\n"
     ]
    }
   ],
   "source": [
    "print(\"Quiz create will webscrape a quiz and create array of questions/answers from webscraping\")\n",
    "print(\"It takes in a quiz object and webscrapes according to instance of quiz settings\")\n",
    "\n",
    "main.quiz_create(theQuiz)"
   ]
  },
  {
   "cell_type": "markdown",
   "id": "37359258-6af2-4214-a9ff-aadc6cc0599b",
   "metadata": {},
   "source": [
    "#### user_control"
   ]
  },
  {
   "cell_type": "code",
   "execution_count": 13,
   "id": "29f2c8b9-fde7-4a66-9fc9-3fa6bd23798f",
   "metadata": {},
   "outputs": [
    {
     "name": "stdin",
     "output_type": "stream",
     "text": [
      "You are about to start a quiz on Space from the site quizlet.\n",
      "Please choose from the following options: \n",
      "   Start (starts the quiz!)\n",
      "   Settings (change settings)\n",
      "   Exit (quit)\n",
      " exit\n"
     ]
    }
   ],
   "source": [
    "print(\"User control allows users to interact with the quiz, such as specifying to start, exit, modify quiz settings\")\n",
    "print(\"Please specify exit to examine other functions\")\n",
    "\n",
    "main.user_control(theQuiz)"
   ]
  },
  {
   "cell_type": "code",
   "execution_count": null,
   "id": "2a1881e7-45ac-45db-87fe-968a5380fcdd",
   "metadata": {},
   "outputs": [],
   "source": []
  }
 ],
 "metadata": {
  "kernelspec": {
   "display_name": "Python 3 (ipykernel)",
   "language": "python",
   "name": "python3"
  },
  "language_info": {
   "codemirror_mode": {
    "name": "ipython",
    "version": 3
   },
   "file_extension": ".py",
   "mimetype": "text/x-python",
   "name": "python",
   "nbconvert_exporter": "python",
   "pygments_lexer": "ipython3",
   "version": "3.9.12"
  }
 },
 "nbformat": 4,
 "nbformat_minor": 5
}
