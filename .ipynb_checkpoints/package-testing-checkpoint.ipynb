{
 "cells": [
  {
   "cell_type": "code",
   "execution_count": 4,
   "id": "872c2fe5",
   "metadata": {},
   "outputs": [
    {
     "ename": "ModuleNotFoundError",
     "evalue": "No module named 'py_quizlet_kahoot'",
     "output_type": "error",
     "traceback": [
      "\u001b[0;31m--------------------------------------------------------\u001b[0m",
      "\u001b[0;31mModuleNotFoundError\u001b[0m    Traceback (most recent call last)",
      "Input \u001b[0;32mIn [4]\u001b[0m, in \u001b[0;36m<cell line: 1>\u001b[0;34m()\u001b[0m\n\u001b[0;32m----> 1\u001b[0m \u001b[38;5;28;01mimport\u001b[39;00m \u001b[38;5;21;01mpy_quizlet_kahoot\u001b[39;00m\u001b[38;5;21;01m.\u001b[39;00m\u001b[38;5;21;01mcore\u001b[39;00m\u001b[38;5;21;01m.\u001b[39;00m\u001b[38;5;21;01mquiz_main\u001b[39;00m \u001b[38;5;28;01mas\u001b[39;00m \u001b[38;5;21;01mmain\u001b[39;00m\n\u001b[1;32m      2\u001b[0m \u001b[38;5;28mprint\u001b[39m(\u001b[38;5;28mdir\u001b[39m(main))\n",
      "\u001b[0;31mModuleNotFoundError\u001b[0m: No module named 'py_quizlet_kahoot'"
     ]
    }
   ],
   "source": [
    "import py_quizlet_kahoot.core.quiz_main as main\n",
    "print(dir(main))"
   ]
  },
  {
   "cell_type": "code",
   "execution_count": 3,
   "id": "ade0ce31",
   "metadata": {},
   "outputs": [
    {
     "name": "stdout",
     "output_type": "stream",
     "text": [
      "Functions requiring internet connection may take a while. Please do not interact with your device until the process is finished.\n",
      "Starting in:\n",
      "3\n",
      "2\n",
      "1\n",
      "Done.\n"
     ]
    }
   ],
   "source": [
    "quiz1 = main.Quiz(\"cat\", site=\"quizlet\", setNum = 4)"
   ]
  },
  {
   "cell_type": "code",
   "execution_count": 4,
   "id": "0b37eac2",
   "metadata": {},
   "outputs": [
    {
     "name": "stdout",
     "output_type": "stream",
     "text": [
      "You are now taking a quiz with the following options:\n",
      "Topic: cat\n",
      "Site: quizlet\n",
      "Set number: 4\n",
      "Number of questions: 10\n",
      "Press Enter to start quiz... \n",
      "\n",
      "Question 1:\n",
      "Abyssinian\n",
      "Press Enter to see answer... \n",
      "\n",
      "Answer:\n",
      "cat\n",
      "Did you get this question right or wrong?\n",
      "Type 'R' for right, or 'W' for wrong.w\n",
      "\n",
      "Question 2:\n",
      "American Shorthair\n",
      "Press Enter to see answer... \n",
      "\n",
      "Answer:\n",
      "cat\n",
      "Did you get this question right or wrong?\n",
      "Type 'R' for right, or 'W' for wrong.r\n",
      "\n",
      "Question 3:\n",
      "Burmese\n",
      "Press Enter to see answer... \n",
      "\n",
      "Answer:\n",
      "cat\n",
      "Did you get this question right or wrong?\n",
      "Type 'R' for right, or 'W' for wrong.w\n",
      "\n",
      "Question 4:\n",
      "Maine Coon\n",
      "Press Enter to see answer... \n",
      "\n",
      "Answer:\n",
      "cat\n",
      "Did you get this question right or wrong?\n",
      "Type 'R' for right, or 'W' for wrong.r\n",
      "\n",
      "Question 5:\n",
      "Manx\n",
      "Press Enter to see answer... \n",
      "\n",
      "Answer:\n",
      "cat\n",
      "Did you get this question right or wrong?\n",
      "Type 'R' for right, or 'W' for wrong.r\n",
      "\n",
      "Question 6:\n",
      "Persian\n",
      "Press Enter to see answer... \n",
      "\n",
      "Answer:\n",
      "cat\n",
      "Did you get this question right or wrong?\n",
      "Type 'R' for right, or 'W' for wrong.w\n",
      "\n",
      "Question 7:\n",
      "Ragdoll\n",
      "Press Enter to see answer... \n",
      "\n",
      "Answer:\n",
      "cat\n",
      "Did you get this question right or wrong?\n",
      "Type 'R' for right, or 'W' for wrong.w\n",
      "\n",
      "Question 8:\n",
      "Russian Blue\n",
      "Press Enter to see answer... \n",
      "\n",
      "Answer:\n",
      "cat\n",
      "Did you get this question right or wrong?\n",
      "Type 'R' for right, or 'W' for wrong.r\n",
      "\n",
      "Question 9:\n",
      "Siamese\n",
      "Press Enter to see answer... \n",
      "\n",
      "Answer:\n",
      "cat\n",
      "Did you get this question right or wrong?\n",
      "Type 'R' for right, or 'W' for wrong.w\n",
      "\n",
      "Question 10:\n",
      "Sphynx\n",
      "Press Enter to see answer... \n",
      "\n",
      "Answer:\n",
      "cat\n",
      "Did you get this question right or wrong?\n",
      "Type 'R' for right, or 'W' for wrong.r\n",
      "\n",
      "Well done! Quiz is finished.\n"
     ]
    },
    {
     "data": {
      "image/png": "[encoded data removed]",
      "text/plain": [
       "<Figure size 432x288 with 1 Axes>"
      ]
     },
     "metadata": {},
     "output_type": "display_data"
    }
   ],
   "source": [
    "import py_quizlet_kahoot.core.quiz_methods as methods\n",
    "methods.take_the_quiz(quiz1)"
   ]
  },
  {
   "cell_type": "code",
   "execution_count": null,
   "id": "18aa38c5",
   "metadata": {},
   "outputs": [],
   "source": [
    "quiz2 = main.Quiz(\"american football\", site=\"cram\", setNum = 2)\n",
    "print(quiz2.topic)\n",
    "print(quiz2.quiz_length)\n",
    "for i in quiz2.QAs:\n",
    "    print(i.question)"
   ]
  }
 ],
 "metadata": {
  "kernelspec": {
   "display_name": "Python 3",
   "language": "python",
   "name": "python3"
  },
  "language_info": {
   "codemirror_mode": {
    "name": "ipython",
    "version": 3
   },
   "file_extension": ".py",
   "mimetype": "text/x-python",
   "name": "python",
   "nbconvert_exporter": "python",
   "pygments_lexer": "ipython3",
   "version": "3.9.12"
  }
 },
 "nbformat": 4,
 "nbformat_minor": 5
}
